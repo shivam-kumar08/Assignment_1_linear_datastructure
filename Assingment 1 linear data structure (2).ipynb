{
 "cells": [
  {
   "cell_type": "code",
   "execution_count": 3,
   "id": "dd32e9ae",
   "metadata": {},
   "outputs": [],
   "source": [
    "# Write a program to find all pairs of an integer array whose sum is equal to a given number?"
   ]
  },
  {
   "cell_type": "code",
   "execution_count": 5,
   "id": "047e1a98",
   "metadata": {},
   "outputs": [
    {
     "name": "stdout",
     "output_type": "stream",
     "text": [
      "Pairs with sum 5: [(3, 2), (4, 1)]\n"
     ]
    }
   ],
   "source": [
    "def find_pairs_with_sum(arr, target_sum):\n",
    "    pairs = []\n",
    "    seen = set()\n",
    "\n",
    "    for num in arr:\n",
    "        complement = target_sum - num\n",
    "        if complement in seen:\n",
    "            pairs.append((num, complement))\n",
    "        seen.add(num)\n",
    "\n",
    "    return pairs\n",
    "\n",
    "# Example usage:\n",
    "arr = [1, 2, 3, 4, 5, 6]\n",
    "target_sum = 5\n",
    "result = find_pairs_with_sum(arr, target_sum)\n",
    "\n",
    "if result:\n",
    "    print(f\"Pairs with sum {target_sum}: {result}\")\n",
    "else:\n",
    "    print(f\"No pairs found with sum {target_sum}\")\n"
   ]
  },
  {
   "cell_type": "code",
   "execution_count": null,
   "id": "70f647d0",
   "metadata": {},
   "outputs": [],
   "source": [
    "#To reverse an array in place, you can use a two-pointer approach. Here's a Python program that reverses an array without creating a new array:"
   ]
  },
  {
   "cell_type": "code",
   "execution_count": 7,
   "id": "eca63c49",
   "metadata": {},
   "outputs": [
    {
     "name": "stdout",
     "output_type": "stream",
     "text": [
      "Reversed Array: [9, 8, 7, 6, 5, 4, 3, 2, 1]\n"
     ]
    }
   ],
   "source": [
    "def reverse_array_in_place(arr):\n",
    "    left = 0\n",
    "    right = len(arr) - 1\n",
    "\n",
    "    while left < right:\n",
    "    \n",
    "        arr[left], arr[right] = arr[right], arr[left]\n",
    "        left += 1\n",
    "        right -= 1\n",
    "\n",
    "my_array = [1, 2, 3, 4, 5,6,7,8,9]\n",
    "reverse_array_in_place(my_array)\n",
    "print(\"Reversed Array:\", my_array)\n"
   ]
  },
  {
   "cell_type": "code",
   "execution_count": 8,
   "id": "e5d88612",
   "metadata": {},
   "outputs": [],
   "source": [
    "# Write a program to check if two strings are a rotation of each other?"
   ]
  },
  {
   "cell_type": "code",
   "execution_count": 9,
   "id": "f6ba52f5",
   "metadata": {},
   "outputs": [
    {
     "name": "stdout",
     "output_type": "stream",
     "text": [
      "hello and lohel are rotations of each other.\n"
     ]
    }
   ],
   "source": [
    "def are_strings_rotations(str1, str2):\n",
    "    if len(str1) != len(str2):\n",
    "        return False\n",
    "\n",
    "    \n",
    "    concatenated_str = str1 + str1\n",
    "\n",
    "\n",
    "    if str2 in concatenated_str:\n",
    "        return True\n",
    "    else:\n",
    "        return False\n",
    "\n",
    "string1 = \"hello\"\n",
    "string2 = \"lohel\"\n",
    "if are_strings_rotations(string1, string2):\n",
    "    print(f\"{string1} and {string2} are rotations of each other.\")\n",
    "else:\n",
    "    print(f\"{string1} and {string2} are not rotations of each other.\")\n"
   ]
  },
  {
   "cell_type": "code",
   "execution_count": 10,
   "id": "de4b9c31",
   "metadata": {},
   "outputs": [],
   "source": [
    "# Write a program to print the first non-repeated character from a string?"
   ]
  },
  {
   "cell_type": "code",
   "execution_count": 14,
   "id": "32b3d828",
   "metadata": {},
   "outputs": [
    {
     "name": "stdout",
     "output_type": "stream",
     "text": [
      "The first non-repeated character in 'shivam sharma' is 'i'.\n"
     ]
    }
   ],
   "source": [
    "def first_non_repeated_char(s):\n",
    "    char_count = {}\n",
    "    \n",
    "\n",
    "    for char in s:\n",
    "        if char in char_count:\n",
    "            char_count[char] += 1\n",
    "        else:\n",
    "            char_count[char] = 1\n",
    "    for char in s:\n",
    "        if char_count[char] == 1:\n",
    "            return char\n",
    "\n",
    "    return None  \n",
    "\n",
    "\n",
    "input_string = \"shivam sharma\"\n",
    "result = first_non_repeated_char(input_string)\n",
    "\n",
    "if result:\n",
    "    print(f\"The first non-repeated character in '{input_string}' is '{result}'.\")\n",
    "else:\n",
    "    print(\"No non-repeated character found in the string.\")\n"
   ]
  },
  {
   "cell_type": "code",
   "execution_count": 15,
   "id": "f5581485",
   "metadata": {},
   "outputs": [],
   "source": [
    "#Read about the Tower of Hanoi algorithm. Write a program to implement it."
   ]
  },
  {
   "cell_type": "code",
   "execution_count": 16,
   "id": "552402bf",
   "metadata": {},
   "outputs": [
    {
     "name": "stdout",
     "output_type": "stream",
     "text": [
      "Move disk 1 from A to C\n",
      "Move disk 2 from A to B\n",
      "Move disk 1 from C to B\n",
      "Move disk 3 from A to C\n",
      "Move disk 1 from B to A\n",
      "Move disk 2 from B to C\n",
      "Move disk 1 from A to C\n"
     ]
    }
   ],
   "source": [
    "def tower_of_hanoi(n, source, auxiliary, target):\n",
    "    if n == 1:\n",
    "        print(f\"Move disk 1 from {source} to {target}\")\n",
    "        return\n",
    "    tower_of_hanoi(n-1, source, target, auxiliary)\n",
    "    print(f\"Move disk {n} from {source} to {target}\")\n",
    "    tower_of_hanoi(n-1, auxiliary, source, target)\n",
    "\n",
    "\n",
    "num_disks = 3\n",
    "tower_of_hanoi(num_disks, 'A', 'B', 'C')\n"
   ]
  },
  {
   "cell_type": "code",
   "execution_count": 17,
   "id": "256c54c6",
   "metadata": {},
   "outputs": [],
   "source": [
    "#Read about infix, prefix, and postfix expressions. Write a program to convert postfix to prefix expression."
   ]
  },
  {
   "cell_type": "code",
   "execution_count": 10,
   "id": "37522a47",
   "metadata": {},
   "outputs": [
    {
     "name": "stdout",
     "output_type": "stream",
     "text": [
      "Postfix Expression: 5 4 * 2 / 1 +\n",
      "Prefix Expression: Invalid Postfix Expression\n"
     ]
    }
   ],
   "source": [
    "def is_operator(char):\n",
    "    return char in '+-*/'\n",
    "\n",
    "def postfix_to_prefix(expression):\n",
    "    stack = []\n",
    "    \n",
    "    for char in expression:\n",
    "        if not is_operator(char):\n",
    "            stack.append(char)\n",
    "        else:\n",
    "            operand2 = stack.pop()\n",
    "            operand1 = stack.pop()\n",
    "            prefix_expr = char + operand1 + operand2\n",
    "            stack.append(prefix_expr)\n",
    "    \n",
    "    if len(stack) == 1:\n",
    "        return stack[0]\n",
    "    else:\n",
    "        return \"Invalid Postfix Expression\"\n",
    "\n",
    "\n",
    "if __name__ == \"__main__\":\n",
    "    postfix_expression = \"5 4 * 2 / 1 +\"\n",
    "    prefix_expression = postfix_to_prefix(postfix_expression)\n",
    "    print(\"Postfix Expression:\", postfix_expression)\n",
    "    print(\"Prefix Expression:\", prefix_expression)\n"
   ]
  },
  {
   "cell_type": "code",
   "execution_count": 21,
   "id": "163c7b4d",
   "metadata": {},
   "outputs": [
    {
     "name": "stdout",
     "output_type": "stream",
     "text": [
      "Prefix expression: *+AB-CD\n",
      "Infix expression: ((A+B)*(C-D))\n"
     ]
    }
   ],
   "source": [
    "def is_operator(char):\n",
    "    return char in \"+-*/^\"\n",
    "\n",
    "def prefix_to_infix(expression):\n",
    "    stack = []\n",
    "    operators = set(\"+-*/^\")\n",
    "\n",
    "    for char in reversed(expression):\n",
    "        if char.isalnum():\n",
    "            stack.append(char)\n",
    "        elif char in operators:\n",
    "            operand1 = stack.pop()\n",
    "            operand2 = stack.pop()\n",
    "            infix_expression = f\"({operand1}{char}{operand2})\"\n",
    "            stack.append(infix_expression)\n",
    "\n",
    "    if len(stack) == 1:\n",
    "        return stack[0]\n",
    "    else:\n",
    "        raise ValueError(\"Invalid prefix expression\")\n",
    "\n",
    "# Example usage:\n",
    "prefix_expression = \"*+AB-CD\"\n",
    "infix_expression = prefix_to_infix(prefix_expression)\n",
    "print(f\"Prefix expression: {prefix_expression}\")\n",
    "print(f\"Infix expression: {infix_expression}\")\n"
   ]
  },
  {
   "cell_type": "code",
   "execution_count": null,
   "id": "9a999259",
   "metadata": {},
   "outputs": [],
   "source": [
    "# Write a program to check if all the brackets are closed in a given code snippet."
   ]
  },
  {
   "cell_type": "code",
   "execution_count": 22,
   "id": "48c0cab0",
   "metadata": {},
   "outputs": [
    {
     "name": "stdout",
     "output_type": "stream",
     "text": [
      "All brackets are properly closed.\n"
     ]
    }
   ],
   "source": [
    "def are_brackets_balanced(code):\n",
    "    stack = []\n",
    "    opening_brackets = \"([{\"\n",
    "    closing_brackets = \")]}\"\n",
    "\n",
    "    for char in code:\n",
    "        if char in opening_brackets:\n",
    "            stack.append(char)\n",
    "        elif char in closing_brackets:\n",
    "            if not stack:\n",
    "                return False  \n",
    "            top = stack.pop()\n",
    "            if opening_brackets.index(top) != closing_brackets.index(char):\n",
    "                return False  \n",
    "    \n",
    "    return len(stack) == 0 \n",
    "\n",
    "\n",
    "code_snippet = \"{[()]}\"\n",
    "if are_brackets_balanced(code_snippet):\n",
    "    print(\"All brackets are properly closed.\")\n",
    "else:\n",
    "    print(\"Brackets are not properly closed.\")\n"
   ]
  },
  {
   "cell_type": "code",
   "execution_count": 2,
   "id": "8ccb695b",
   "metadata": {},
   "outputs": [],
   "source": [
    "#Write a program to convert prefix expression to infix expression"
   ]
  },
  {
   "cell_type": "code",
   "execution_count": 4,
   "id": "710d26d8",
   "metadata": {},
   "outputs": [
    {
     "name": "stdout",
     "output_type": "stream",
     "text": [
      "Prefix expression: *+AB-CD\n",
      "Infix expression: ((A+B)*(C-D))\n"
     ]
    }
   ],
   "source": [
    "def is_operator(char):\n",
    "    return char in \"+-*/^\"\n",
    "\n",
    "def prefix_to_infix(expression):\n",
    "    stack = []\n",
    "    operators = set(\"+-*/^\")\n",
    "\n",
    "    for char in reversed(expression):\n",
    "        if char.isalnum():\n",
    "            stack.append(char)\n",
    "        elif char in operators:\n",
    "            operand1 = stack.pop()\n",
    "            operand2 = stack.pop()\n",
    "            infix_expression = f\"({operand1}{char}{operand2})\"\n",
    "            stack.append(infix_expression)\n",
    "\n",
    "    if len(stack) == 1:\n",
    "        return stack[0]\n",
    "    else:\n",
    "        raise ValueError(\"Invalid prefix expression\")\n",
    "        \n",
    "prefix_expression = \"*+AB-CD\"\n",
    "infix_expression = prefix_to_infix(prefix_expression)\n",
    "print(f\"Prefix expression: {prefix_expression}\")\n",
    "print(f\"Infix expression: {infix_expression}\")\n"
   ]
  },
  {
   "cell_type": "code",
   "execution_count": 5,
   "id": "13734e47",
   "metadata": {},
   "outputs": [],
   "source": [
    "#Write a program to reverse a stack."
   ]
  },
  {
   "cell_type": "code",
   "execution_count": 8,
   "id": "e74b20b3",
   "metadata": {},
   "outputs": [
    {
     "name": "stdout",
     "output_type": "stream",
     "text": [
      "Original Stack:\n",
      "4\n",
      "3\n",
      "2\n",
      "1\n",
      "\n",
      "Reversed Stack:\n",
      "4\n",
      "3\n",
      "2\n",
      "1\n"
     ]
    }
   ],
   "source": [
    "class Stack:\n",
    "    def __init__(self):\n",
    "        self.items = []\n",
    "\n",
    "    def is_empty(self):\n",
    "        return len(self.items) == 0\n",
    "\n",
    "    def push(self, item):\n",
    "        self.items.append(item)\n",
    "\n",
    "    def pop(self):\n",
    "        if not self.is_empty():\n",
    "            return self.items.pop()\n",
    "\n",
    "    def peek(self):\n",
    "        if not self.is_empty():\n",
    "            return self.items[-1]\n",
    "\n",
    "    def size(self):\n",
    "        return len(self.items)\n",
    "\n",
    "def reverse_stack(stack):\n",
    "    if stack.is_empty():\n",
    "        return\n",
    "\n",
    "    reversed_stack = Stack()\n",
    "\n",
    "    while not stack.is_empty():\n",
    "        item = stack.pop()\n",
    "        reversed_stack.push(item)\n",
    "\n",
    "  \n",
    "    while not reversed_stack.is_empty():\n",
    "        item = reversed_stack.pop()\n",
    "        stack.push(item)\n",
    "\n",
    "\n",
    "if __name__ == \"__main__\":\n",
    "    stack = Stack()\n",
    "    stack.push(1)\n",
    "    stack.push(2)\n",
    "    stack.push(3)\n",
    "    stack.push(4)\n",
    "\n",
    "    print(\"Original Stack:\")\n",
    "    while not stack.is_empty():\n",
    "        print(stack.pop())\n",
    "\n",
    "    stack.push(1)\n",
    "    stack.push(2)\n",
    "    stack.push(3)\n",
    "    stack.push(4)\n",
    "\n",
    "    reverse_stack(stack)\n",
    "\n",
    "    print(\"\\nReversed Stack:\")\n",
    "    while not stack.is_empty():\n",
    "        print(stack.pop())\n"
   ]
  },
  {
   "cell_type": "code",
   "execution_count": 9,
   "id": "0ab21037",
   "metadata": {},
   "outputs": [
    {
     "name": "stdout",
     "output_type": "stream",
     "text": [
      "Current Stack: [3, 2, 5, 1]\n",
      "Smallest Number: 1\n",
      "Current Stack after popping: [3, 2, 5]\n",
      "Smallest Number: 2\n"
     ]
    }
   ],
   "source": [
    "class MinStack:\n",
    "    def __init__(self):\n",
    "        self.stack = []\n",
    "        self.min_stack = []\n",
    "\n",
    "    def push(self, value):\n",
    "        self.stack.append(value)\n",
    "        if not self.min_stack or value <= self.min_stack[-1]:\n",
    "            self.min_stack.append(value)\n",
    "\n",
    "    def pop(self):\n",
    "        if not self.stack:\n",
    "            return None\n",
    "        if self.stack[-1] == self.min_stack[-1]:\n",
    "            self.min_stack.pop()\n",
    "        return self.stack.pop()\n",
    "\n",
    "    def top(self):\n",
    "        if not self.stack:\n",
    "            return None\n",
    "        return self.stack[-1]\n",
    "\n",
    "    def get_min(self):\n",
    "        if not self.min_stack:\n",
    "            return None\n",
    "        return self.min_stack[-1]\n",
    "\n",
    "\n",
    "if __name__ == \"__main__\":\n",
    "    min_stack = MinStack()\n",
    "    min_stack.push(3)\n",
    "    min_stack.push(2)\n",
    "    min_stack.push(5)\n",
    "    min_stack.push(1)\n",
    "\n",
    "    print(\"Current Stack:\", min_stack.stack)\n",
    "    print(\"Smallest Number:\", min_stack.get_min())\n",
    "\n",
    "    min_stack.pop()\n",
    "    print(\"Current Stack after popping:\", min_stack.stack)\n",
    "    print(\"Smallest Number:\", min_stack.get_min())\n"
   ]
  },
  {
   "cell_type": "code",
   "execution_count": null,
   "id": "5003ef23",
   "metadata": {},
   "outputs": [],
   "source": []
  }
 ],
 "metadata": {
  "kernelspec": {
   "display_name": "Python 3 (ipykernel)",
   "language": "python",
   "name": "python3"
  },
  "language_info": {
   "codemirror_mode": {
    "name": "ipython",
    "version": 3
   },
   "file_extension": ".py",
   "mimetype": "text/x-python",
   "name": "python",
   "nbconvert_exporter": "python",
   "pygments_lexer": "ipython3",
   "version": "3.10.9"
  }
 },
 "nbformat": 4,
 "nbformat_minor": 5
}
